{
 "cells": [
  {
   "cell_type": "code",
   "execution_count": null,
   "metadata": {},
   "outputs": [],
   "source": [
    "import numpy as np\n",
    "import pandas as pd\n",
    "import matplotlib.pyplot as plt\n",
    "import seaborns as sns\n",
    "\n",
    "def leitura_dados(caminho_arquivo,separador=',',tipo_arquivo='csv'):\n",
    "    if(tipo_arquivo == 'csv'):\n",
    "        dados=pd.read_csv(caminho_arquivo,sep=separador)\n",
    "    elif(tipo_arquivo=='excel'):\n",
    "        dados=pd.read_excel(caminho_arquivo,sep=separador)\n",
    "    return dados\n",
    "bd=leitura_dados('mudar pro diretorio que está',separador=',',tipo_arquivo='csv')\n",
    "\n",
    "def salvamento_datagram(dataframe, caminho, separador=',',tipo_arquivo='csv'):\n",
    "    if(tipo_arquivo=='csv'):\n",
    "        dataframe.to_csv(caminho,sep=separador,index=False)\n",
    "    elif(tipo_arquivo=='excel'):\n",
    "        dataframe.to_excel(caminho,index=False)\n",
    "    return 'Ok'\n",
    "\n",
    "salvamento=salvamento_datagram(bd,'teste.csv')"
   ]
  }
 ],
 "metadata": {
  "language_info": {
   "name": "python"
  },
  "orig_nbformat": 4
 },
 "nbformat": 4,
 "nbformat_minor": 2
}
