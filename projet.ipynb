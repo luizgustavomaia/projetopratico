{
 "cells": [
  {
   "cell_type": "code",
   "execution_count": null,
   "metadata": {},
   "outputs": [],
   "source": [
    "import pandas as pd\n",
    "import numpy as np\n",
    "\n",
    "def leitura(caminho_arquivo,separador=',',tipo_arquivo='csv'):\n",
    "    if tipo_arquivo == 'csv':\n",
    "        df=pd.read_csv(caminho_arquivo,sep=separador)\n",
    "    elif tipo_arquivo=='excel':\n",
    "        df=pd.read_excel(caminho_arquivo)\n",
    "    return df\n",
    "\n",
    "bd=leitura('mudar pro diretorio que está',separador=',',tipo_arquivo='csv')\n",
    "\n",
    "def salva_datagram(dataframe,caminho,separador=',',tipoarquivo='csv'):\n",
    "    if tipo_arquivo =='csv':\n",
    "        dataframe.to_csv(caminho,sep=separador,index=False)\n",
    "    elif tipo_arquivo == 'excel':\n",
    "        dataframe.to_excel(caminho,index=False)\n",
    "    return 'Ok'\n",
    "\n",
    "salvamento = salva_dataframe(bd,'teste.csv')"
   ]
  }
 ],
 "metadata": {
  "language_info": {
   "name": "python"
  },
  "orig_nbformat": 4
 },
 "nbformat": 4,
 "nbformat_minor": 2
}
